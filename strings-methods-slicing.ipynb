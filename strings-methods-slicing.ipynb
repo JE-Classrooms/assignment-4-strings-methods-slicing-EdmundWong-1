{
 "cells": [
  {
   "cell_type": "markdown",
   "metadata": {},
   "source": [
    "# Assignment 4"
   ]
  },
  {
   "cell_type": "markdown",
   "metadata": {},
   "source": [
    "1. Given two strings, s1 and s2, write a program to return a new string made of s1 and s2’s first, middle, and last characters all in capital letters."
   ]
  },
  {
   "cell_type": "code",
   "execution_count": 20,
   "metadata": {},
   "outputs": [
    {
     "name": "stdout",
     "output_type": "stream",
     "text": [
      "ASAPJD\n"
     ]
    }
   ],
   "source": [
    "s1=\"asfdsdfa\"\n",
    "s2=\"psgpejvfkd\"\n",
    "first1= s1[0]\n",
    "length1=len(s1)\n",
    "mid1=int(length/2)\n",
    "middle1= s1[mid1]\n",
    "last1=int(length-1)\n",
    "final1= s1[last1]\n",
    "\n",
    "first2= s2[0]\n",
    "length2=len(s2)\n",
    "mid2=int(length2/2)\n",
    "middle2= s2[mid2]\n",
    "last2=int(length2-1)\n",
    "final2= s2[last2]\n",
    "\n",
    "s3= first1 + middle1 + final1 + first2 + middle2 + final2\n",
    "s4=s3.upper()\n",
    "print(s4)"
   ]
  },
  {
   "cell_type": "markdown",
   "metadata": {},
   "source": [
    "2. Calculate the sum and the averages of the numbers in the following string while ignoring all other characters:\n",
    "\n",
    "    ```aa4a649##aq#2```"
   ]
  },
  {
   "cell_type": "code",
   "execution_count": 40,
   "metadata": {},
   "outputs": [
    {
     "name": "stdout",
     "output_type": "stream",
     "text": [
      "655\n",
      "218.33333333333334\n"
     ]
    }
   ],
   "source": [
    "s = \"aa4a649##aq#2\"\n",
    "s = s.replace('a', '')\n",
    "s = s.replace('#', '')\n",
    "s = s.replace('q', '')\n",
    "#s\n",
    "\n",
    "one= s[0]\n",
    "two = s[1:4]\n",
    "three = s[4]\n",
    "\n",
    "first= int(one)\n",
    "second=int(two)\n",
    "third=int(three)\n",
    "\n",
    "sum= first+second+third\n",
    "average= sum/3\n",
    "print(sum)\n",
    "print(average)"
   ]
  },
  {
   "cell_type": "markdown",
   "metadata": {},
   "source": [
    "3. Extract the last name Culberson from the following legislative action:\n",
    "\n",
    "    ```WORDS TAKEN DOWN - During the course of debate, exception was taken to certain words used and a demand was made to have words taken down. Mr. Culberson asked unanimous consent to withdraw the words. Without objection the words were withdrawn. The House resumed debate on S. 22 .```\n",
    "\n",
    "    **Hint:** use the method [split](https://www.w3schools.com/python/ref_string_split.asp)"
   ]
  },
  {
   "cell_type": "code",
   "execution_count": 39,
   "metadata": {},
   "outputs": [
    {
     "name": "stdout",
     "output_type": "stream",
     "text": [
      " Culberson\n"
     ]
    }
   ],
   "source": [
    "legislative = \"WORDS TAKEN DOWN - During the course of debate, exception was taken to certain words used and a demand was made to have words taken down. Mr. Culberson asked unanimous consent to withdraw the words. Without objection the words were withdrawn. The House resumed debate on S. 22 .\"\n",
    "split= legislative.split('.')\n",
    "#split\n",
    "\n",
    "Culbersonsentence=split[2]\n",
    "#print(Culbersonsentence)\n",
    "\n",
    "Culberson = Culbersonsentence[0:10]\n",
    "print(Culberson)"
   ]
  },
  {
   "cell_type": "markdown",
   "metadata": {},
   "source": [
    "4. Extract the two integers from the following sentence and transform them intro ```int``` type\n",
    "\n",
    "    ```Passed Senate with amendments by Yea-Nay Vote. 73 - 21. Record Vote Number: 3 . (text: CR S430-557 )```"
   ]
  },
  {
   "cell_type": "code",
   "execution_count": 38,
   "metadata": {},
   "outputs": [
    {
     "name": "stdout",
     "output_type": "stream",
     "text": [
      "73 21\n"
     ]
    }
   ],
   "source": [
    "sentence = \"Passed Senate with amendments by Yea-Nay Vote. 73 - 21. Record Vote Number: 3 . (text: CR S430-557 )\"\n",
    "splits= sentence.split('.')\n",
    "#print(splits)\n",
    "extract= splits[1]\n",
    "#print(extract)\n",
    "\n",
    "integer73= extract[1:3]\n",
    "integer21= extract[6:8]\n",
    "print(integer73,integer21)"
   ]
  },
  {
   "cell_type": "code",
   "execution_count": null,
   "metadata": {},
   "outputs": [],
   "source": []
  }
 ],
 "metadata": {
  "kernelspec": {
   "display_name": "conda_amazonei_mxnet_p36",
   "language": "python",
   "name": "conda_amazonei_mxnet_p36"
  },
  "language_info": {
   "codemirror_mode": {
    "name": "ipython",
    "version": 3
   },
   "file_extension": ".py",
   "mimetype": "text/x-python",
   "name": "python",
   "nbconvert_exporter": "python",
   "pygments_lexer": "ipython3",
   "version": "3.6.13"
  },
  "vscode": {
   "interpreter": {
    "hash": "11838f79d2aaadbfa3a2adfaf35bacdebdb4e8d9b63957ddf298964812544a76"
   }
  }
 },
 "nbformat": 4,
 "nbformat_minor": 4
}
